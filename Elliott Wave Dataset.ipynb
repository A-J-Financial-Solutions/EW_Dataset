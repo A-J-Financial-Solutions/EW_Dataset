{
 "cells": [
  {
   "cell_type": "code",
   "execution_count": 39,
   "id": "5da76f1a-6569-491c-ab50-d23d7111e1d0",
   "metadata": {},
   "outputs": [],
   "source": [
    "import yfinance as yf\n",
    "import pandas as pd\n",
    "import numpy as np\n",
    "import matplotlib.pyplot as plt"
   ]
  },
  {
   "cell_type": "code",
   "execution_count": 61,
   "id": "da332d5f",
   "metadata": {},
   "outputs": [
    {
     "name": "stderr",
     "output_type": "stream",
     "text": [
      "[*********************100%%**********************]  1 of 1 completed"
     ]
    },
    {
     "name": "stdout",
     "output_type": "stream",
     "text": [
      "                   Open         High          Low        Close    Adj Close  \\\n",
      "Date                                                                          \n",
      "2009-03-09  6547.049805  6547.049805  6547.049805  6547.049805  6547.049805   \n",
      "2009-03-10  6926.490234  6926.490234  6926.490234  6926.490234  6926.490234   \n",
      "2009-03-11  6930.399902  6930.399902  6930.399902  6930.399902  6930.399902   \n",
      "2009-03-12  7170.060059  7170.060059  7170.060059  7170.060059  7170.060059   \n",
      "2009-03-13  7223.979980  7223.979980  7223.979980  7223.979980  7223.979980   \n",
      "\n",
      "            Volume  \n",
      "Date                \n",
      "2009-03-09       0  \n",
      "2009-03-10       0  \n",
      "2009-03-11       0  \n",
      "2009-03-12       0  \n",
      "2009-03-13       0  \n"
     ]
    },
    {
     "name": "stderr",
     "output_type": "stream",
     "text": [
      "\n"
     ]
    }
   ],
   "source": [
    "stock_symbol = 'DJI'\n",
    "start_date = '2009-03-09'\n",
    "end_date = '2010-04-26'\n",
    "\n",
    "stock_data = yf.download(stock_symbol, start=start_date, end=end_date)\n",
    "\n",
    "print(stock_data.head())\n",
    "stock_data.to_csv('data.csv')"
   ]
  },
  {
   "cell_type": "code",
   "execution_count": 64,
   "id": "fc9830f9",
   "metadata": {},
   "outputs": [],
   "source": [
    "plt.figure(figsize=(10, 6))\n",
    "plt.plot(stock_data['Close'])\n",
    "plt.title(f'{stock_symbol} Close Price')\n",
    "plt.xlabel('Date')\n",
    "plt.ylabel('Close Price')\n",
    "plt.savefig(f'./mnt/data/{stock_symbol}_{start_date}_to_{end_date}.png')\n",
    "plt.close()"
   ]
  },
  {
   "cell_type": "code",
   "execution_count": 65,
   "id": "65094fa2",
   "metadata": {},
   "outputs": [
    {
     "data": {
      "text/plain": [
       "True"
      ]
     },
     "execution_count": 65,
     "metadata": {},
     "output_type": "execute_result"
    }
   ],
   "source": [
    "import cv2\n",
    "\n",
    "# Load the image\n",
    "image = cv2.imread(f'./mnt/data/{stock_symbol}_{start_date}_to_{end_date}.png')\n",
    "\n",
    "x_start, y_start = 130, 80 \n",
    "x_end, y_end = 900, 530\n",
    "\n",
    "# Crop the image\n",
    "cropped_image = image[y_start:y_end, x_start:x_end]\n",
    "\n",
    "# grayscale the image\n",
    "grayscale_image = cv2.cvtColor(cropped_image, cv2.COLOR_BGR2GRAY)\n",
    "\n",
    "# Save or display the cropped image\n",
    "cv2.imwrite(f'./mnt/data/{stock_symbol}_{start_date}_to_{end_date}.png', grayscale_image)"
   ]
  }
 ],
 "metadata": {
  "kernelspec": {
   "display_name": "EWnv",
   "language": "python",
   "name": "python3"
  },
  "language_info": {
   "codemirror_mode": {
    "name": "ipython",
    "version": 3
   },
   "file_extension": ".py",
   "mimetype": "text/x-python",
   "name": "python",
   "nbconvert_exporter": "python",
   "pygments_lexer": "ipython3",
   "version": "3.9.0"
  }
 },
 "nbformat": 4,
 "nbformat_minor": 5
}
